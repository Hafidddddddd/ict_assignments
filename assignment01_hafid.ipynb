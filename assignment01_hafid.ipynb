{
  "nbformat": 4,
  "nbformat_minor": 0,
  "metadata": {
    "colab": {
      "provenance": [],
      "authorship_tag": "ABX9TyNcY5oRZxvTdqPv4I+ffT/P",
      "include_colab_link": true
    },
    "kernelspec": {
      "name": "python3",
      "display_name": "Python 3"
    },
    "language_info": {
      "name": "python"
    }
  },
  "cells": [
    {
      "cell_type": "markdown",
      "metadata": {
        "id": "view-in-github",
        "colab_type": "text"
      },
      "source": [
        "<a href=\"https://colab.research.google.com/github/Hafidddddddd/ict_assignments/blob/main/assignment01_hafid.ipynb\" target=\"_parent\"><img src=\"https://colab.research.google.com/assets/colab-badge.svg\" alt=\"Open In Colab\"/></a>"
      ]
    },
    {
      "cell_type": "markdown",
      "source": [
        "#ASSIGIGNMENT 01"
      ],
      "metadata": {
        "id": "6IE3JRHsNP5Y"
      }
    },
    {
      "cell_type": "markdown",
      "source": [
        "1. Grocery Billing"
      ],
      "metadata": {
        "id": "DOq3TunjWIHZ"
      }
    },
    {
      "cell_type": "code",
      "source": [
        " item1_price = int(input(\"item1 price:\"))\n",
        "item1_quantity = int(input(\"item1 quantity:\"))\n",
        "item2_price = int(input(\"item2 price:\"))\n",
        "item2_quantity = int(input(\"item2 quantity:\"))\n",
        "total_bill = (item1_price * item1_quantity) + (item2_price * item2_quantity)\n",
        "print(\"total bill is:\", total_bill)"
      ],
      "metadata": {
        "colab": {
          "base_uri": "https://localhost:8080/"
        },
        "id": "XYdG-XZSawJn",
        "outputId": "7bbcc6a9-c314-495e-eba5-c902aa2a8df7"
      },
      "execution_count": 30,
      "outputs": [
        {
          "output_type": "stream",
          "name": "stdout",
          "text": [
            "item1 price:45\n",
            "item1 quantity:3\n",
            "item2 price:30\n",
            "item2 quantity:2\n",
            "total bill is: 195\n"
          ]
        }
      ]
    },
    {
      "cell_type": "markdown",
      "source": [
        "2. Temperature Conversion"
      ],
      "metadata": {
        "id": "j2Oi-SXZfZ4y"
      }
    },
    {
      "cell_type": "code",
      "source": [
        "c = float(input(\"Enter temperature in Celsius:\"))\n",
        "fahrenheit = (c * 9/5)+32\n",
        "print(fahrenheit)"
      ],
      "metadata": {
        "colab": {
          "base_uri": "https://localhost:8080/"
        },
        "id": "s_m3XmuQdd17",
        "outputId": "8cd29e71-99d9-4901-e8d5-a4a739db41ab"
      },
      "execution_count": 31,
      "outputs": [
        {
          "output_type": "stream",
          "name": "stdout",
          "text": [
            "Enter temperature in Celsius:30\n",
            "86.0\n"
          ]
        }
      ]
    },
    {
      "cell_type": "markdown",
      "source": [
        "3. Salary Slip"
      ],
      "metadata": {
        "id": "W0pavc18h09Y"
      }
    },
    {
      "cell_type": "code",
      "source": [
        "basic_salary = float(input(\"Enter basic salary: \"))\n",
        "hra = basic_salary * 0.20\n",
        "da = basic_salary * 0.10\n",
        "total_salary = basic_salary + hra + da\n",
        "print(\"Total salary:\", total_salary)"
      ],
      "metadata": {
        "id": "p8UD4vJAh3_n",
        "colab": {
          "base_uri": "https://localhost:8080/"
        },
        "outputId": "adc052a9-08da-49c8-8017-b23874855d17"
      },
      "execution_count": 32,
      "outputs": [
        {
          "output_type": "stream",
          "name": "stdout",
          "text": [
            "Enter basic salary: 20000\n",
            "Total salary: 26000.0\n"
          ]
        }
      ]
    },
    {
      "cell_type": "markdown",
      "source": [
        "4. Simple Interest"
      ],
      "metadata": {
        "id": "nF9kxpSR33tQ"
      }
    },
    {
      "cell_type": "code",
      "source": [
        "p = float(input(\"Enter principle amount:\"))\n",
        "r = float(input(\"Enter rate of interest:\"))\n",
        "t = float(input(\"Enter time in years:\"))\n",
        "simple_interest = (p * r * t)/100\n",
        "print(\"simple_interest:\", simple_interest)"
      ],
      "metadata": {
        "colab": {
          "base_uri": "https://localhost:8080/"
        },
        "id": "hWpkWH4g3r36",
        "outputId": "6540c6f6-980a-4e8d-ae55-4c8e0928320b"
      },
      "execution_count": 5,
      "outputs": [
        {
          "output_type": "stream",
          "name": "stdout",
          "text": [
            "Enter principle amount:10000\n",
            "Enter rate of interest:5\n",
            "Enter time in years:2\n",
            "simple_interest: 1000.0\n"
          ]
        }
      ]
    },
    {
      "cell_type": "markdown",
      "source": [
        "5. Time Conversion"
      ],
      "metadata": {
        "id": "jW2w1E4261CW"
      }
    },
    {
      "cell_type": "code",
      "source": [
        "total_minutes = int(input(\"Enter total minutes:\"))\n",
        "h = total_minutes // 60\n",
        "m = total_minutes % 60\n",
        "print(\"Hours:\", h)\n",
        "print(\"Minutes:\", m)"
      ],
      "metadata": {
        "colab": {
          "base_uri": "https://localhost:8080/"
        },
        "id": "BZH-6Yg56V_C",
        "outputId": "ec0e4e94-b2fc-4720-8507-b806d6a5a734"
      },
      "execution_count": 9,
      "outputs": [
        {
          "output_type": "stream",
          "name": "stdout",
          "text": [
            "Enter total minutes:130\n",
            "Hours: 2\n",
            "Minutes: 10\n"
          ]
        }
      ]
    },
    {
      "cell_type": "markdown",
      "source": [
        "6. BMI Calculator"
      ],
      "metadata": {
        "id": "PkD5P9Hb8DEl"
      }
    },
    {
      "cell_type": "code",
      "source": [
        "w = float(input(\"Enter weight in kg:\"))\n",
        "h = float(input(\"Enter height in meters:\"))\n",
        "bmi = w /(h*h)\n",
        "print(\"BMI:\", bmi)"
      ],
      "metadata": {
        "colab": {
          "base_uri": "https://localhost:8080/"
        },
        "id": "2FloErQk77Xm",
        "outputId": "3a314f0b-dd09-4220-a728-479ea2b685cb"
      },
      "execution_count": 13,
      "outputs": [
        {
          "output_type": "stream",
          "name": "stdout",
          "text": [
            "Enter weight in kg:60\n",
            "Enter height in meters:1.65\n",
            "BMI: 22.03856749311295\n"
          ]
        }
      ]
    },
    {
      "cell_type": "markdown",
      "source": [
        "7. Discount Calculation"
      ],
      "metadata": {
        "id": "tKdo6XTE9eOF"
      }
    },
    {
      "cell_type": "code",
      "source": [
        "original_price = float(input(\"Enter original price:\"))\n",
        "dp = float(input(\"Enter discount percentage:\"))\n",
        "dm = original_price * (dp/100)\n",
        "ndp = original_price - dm\n",
        "print(\"discounted_amount:\", dm)\n",
        "print(\"new_discounted_price:\", ndp)\n"
      ],
      "metadata": {
        "colab": {
          "base_uri": "https://localhost:8080/"
        },
        "id": "cH_VRQ_59IMT",
        "outputId": "49762a21-2889-48fe-aa2a-167ef61ac965"
      },
      "execution_count": 18,
      "outputs": [
        {
          "output_type": "stream",
          "name": "stdout",
          "text": [
            "Enter original price:1200\n",
            "Enter discount percentage:10\n",
            "discounted_amount: 120.0\n",
            "new_discounted_price: 1080.0\n"
          ]
        }
      ]
    },
    {
      "cell_type": "markdown",
      "source": [
        "8. Area of a Triangle (Using Heron’s Formula)"
      ],
      "metadata": {
        "id": "suPa5Yvk_IU6"
      }
    },
    {
      "cell_type": "code",
      "source": [
        "import math\n",
        "A = int(input(\"Enter side A:\"))\n",
        "B = int(input(\"Enter side B:\"))\n",
        "C = int(input(\"Enter side C:\"))\n",
        "S = (A+B+C)/2\n",
        "area = math.sqrt(S*(S-A)*(S-B)*(S-C))\n",
        "print(\"area:\", area)"
      ],
      "metadata": {
        "colab": {
          "base_uri": "https://localhost:8080/"
        },
        "id": "0nQPGfsv-l28",
        "outputId": "e7bb959f-dd52-4671-8fd3-a5a4c0ee3311"
      },
      "execution_count": 27,
      "outputs": [
        {
          "output_type": "stream",
          "name": "stdout",
          "text": [
            "Enter side A:5\n",
            "Enter side B:6\n",
            "Enter side C:7\n",
            "area: 14.696938456699069\n"
          ]
        }
      ]
    },
    {
      "cell_type": "markdown",
      "source": [
        "9. Paint Cost Estimator"
      ],
      "metadata": {
        "id": "YPOGucVjDDd3"
      }
    },
    {
      "cell_type": "code",
      "source": [
        "l = int(input(\"Enter wall length:\"))\n",
        "h = int(input(\"Enter wall height:\"))\n",
        "t = l*h\n",
        "w = 2*(1.5*1.2)\n",
        "p = t-w\n",
        "print(\"Total area painted:\", p)\n",
        "c = p*25\n",
        "print(\"total cost\", c)"
      ],
      "metadata": {
        "colab": {
          "base_uri": "https://localhost:8080/"
        },
        "id": "bEC38GG0BtK5",
        "outputId": "9c3156b3-bee6-4f3a-d643-60c932cd87af"
      },
      "execution_count": 28,
      "outputs": [
        {
          "output_type": "stream",
          "name": "stdout",
          "text": [
            "Enter wall length:12\n",
            "Enter wall height:8\n",
            "Total area painted: 92.4\n",
            "total cost 2310.0\n"
          ]
        }
      ]
    },
    {
      "cell_type": "markdown",
      "source": [
        "10. Electricity Bill Calculator"
      ],
      "metadata": {
        "id": "-zMKB9mTLNXQ"
      }
    },
    {
      "cell_type": "code",
      "source": [
        "rate_per_unit = 5.2\n",
        "fixed_charge = 100\n",
        "number_of_units = int(input(\"Enter number of units consumed:\"))\n",
        "total_bill = (rate_per_unit * number_of_units) + fixed_charge\n",
        "print(\"total_bill:\", total_bill)"
      ],
      "metadata": {
        "colab": {
          "base_uri": "https://localhost:8080/"
        },
        "id": "_4Fd6POGLBpg",
        "outputId": "d416ed4d-3b76-48a9-d203-854d3504f41e"
      },
      "execution_count": 29,
      "outputs": [
        {
          "output_type": "stream",
          "name": "stdout",
          "text": [
            "Enter number of units consumed:250\n",
            "total_bill: 1400.0\n"
          ]
        }
      ]
    }
  ]
}