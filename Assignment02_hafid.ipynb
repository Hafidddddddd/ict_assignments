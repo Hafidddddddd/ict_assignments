{
  "nbformat": 4,
  "nbformat_minor": 0,
  "metadata": {
    "colab": {
      "provenance": [],
      "authorship_tag": "ABX9TyNwd1w4RAj8XjWq5fsYGuZH",
      "include_colab_link": true
    },
    "kernelspec": {
      "name": "python3",
      "display_name": "Python 3"
    },
    "language_info": {
      "name": "python"
    }
  },
  "cells": [
    {
      "cell_type": "markdown",
      "metadata": {
        "id": "view-in-github",
        "colab_type": "text"
      },
      "source": [
        "<a href=\"https://colab.research.google.com/github/Hafidddddddd/ict_assignments/blob/main/Assignment02_hafid.ipynb\" target=\"_parent\"><img src=\"https://colab.research.google.com/assets/colab-badge.svg\" alt=\"Open In Colab\"/></a>"
      ]
    },
    {
      "cell_type": "markdown",
      "source": [
        "1. FizzBuzz"
      ],
      "metadata": {
        "id": "DkEQ4gxeAObq"
      }
    },
    {
      "cell_type": "code",
      "source": [
        "n=int(input(\"enter the number : \"))\n",
        "if n%3==0 and n%5==0:\n",
        "    print(\"fizzbuzz\")\n",
        "elif n%3==0:\n",
        "    print(\"fizz\")\n",
        "elif n%5==0:\n",
        "    print(\"buzz\")\n",
        "else:\n",
        "    print(n)"
      ],
      "metadata": {
        "colab": {
          "base_uri": "https://localhost:8080/"
        },
        "id": "qdpi3F3NKGuG",
        "outputId": "739344ad-c4b6-4b3f-f54a-cb40b2e745dd"
      },
      "execution_count": 41,
      "outputs": [
        {
          "output_type": "stream",
          "name": "stdout",
          "text": [
            "enter the number : 44\n",
            "44\n"
          ]
        }
      ]
    },
    {
      "cell_type": "markdown",
      "source": [
        "2. Electricity Bill calculator\n"
      ],
      "metadata": {
        "id": "6S17jRGOLQ31"
      }
    },
    {
      "cell_type": "code",
      "source": [
        "u = int(input(\"Enter units consumed: \"))\n",
        "total_bill = 0\n",
        "\n",
        "if u <= 100:\n",
        "    total_bill = u * 5\n",
        "elif u <= 200:\n",
        "    total_bill = (100 * 5) + ((u - 100) * 7)\n",
        "else:\n",
        "    total_bill = (100 * 5) + (100 * 7) + ((u - 200) * 10)\n",
        "\n",
        "print(\"Total Bill Amount: \",  total_bill)"
      ],
      "metadata": {
        "id": "eIBz7n98Ktg0",
        "colab": {
          "base_uri": "https://localhost:8080/"
        },
        "outputId": "2958531a-1f7d-4809-f9bd-493e73a794f0"
      },
      "execution_count": 45,
      "outputs": [
        {
          "output_type": "stream",
          "name": "stdout",
          "text": [
            "Enter units consumed: 245\n",
            "Total Bill Amount:  1650\n"
          ]
        }
      ]
    },
    {
      "cell_type": "markdown",
      "source": [
        "3. Display a pattern for a simple progress indicator."
      ],
      "metadata": {
        "id": "F_MIPl4INGaC"
      }
    },
    {
      "cell_type": "code",
      "source": [
        "for i in range(1,6):\n",
        "  print(i*\"*\")"
      ],
      "metadata": {
        "colab": {
          "base_uri": "https://localhost:8080/"
        },
        "id": "HVpTDxuQMIwr",
        "outputId": "a6b05b61-1ea8-4c34-fdb8-15a17f8ad3b7"
      },
      "execution_count": 47,
      "outputs": [
        {
          "output_type": "stream",
          "name": "stdout",
          "text": [
            "*\n",
            "**\n",
            "***\n",
            "****\n",
            "*****\n"
          ]
        }
      ]
    },
    {
      "cell_type": "markdown",
      "source": [
        "4. Palindrome"
      ],
      "metadata": {
        "id": "TKZmUGDKNerZ"
      }
    },
    {
      "cell_type": "code",
      "source": [
        "pal = str(input('Enter a number or string:'))\n",
        "re_pal = pal[::-1]\n",
        "if pal == re_pal:\n",
        "  print('It is a palindrome')\n",
        "else:\n",
        "  print('It is not a palindrome')"
      ],
      "metadata": {
        "colab": {
          "base_uri": "https://localhost:8080/"
        },
        "id": "f9bolBVlNrhB",
        "outputId": "615cf505-2dbe-4422-8781-d231172447c5"
      },
      "execution_count": 49,
      "outputs": [
        {
          "output_type": "stream",
          "name": "stdout",
          "text": [
            "Enter a number or string:121\n",
            "It is a palindrome\n"
          ]
        }
      ]
    }
  ]
}